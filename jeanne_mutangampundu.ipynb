{
  "nbformat": 4,
  "nbformat_minor": 0,
  "metadata": {
    "colab": {
      "provenance": [],
      "toc_visible": true,
      "authorship_tag": "ABX9TyOshuG3Ml/1w/es5iQAKFzz",
      "include_colab_link": true
    },
    "kernelspec": {
      "name": "python3",
      "display_name": "Python 3"
    },
    "language_info": {
      "name": "python"
    }
  },
  "cells": [
    {
      "cell_type": "markdown",
      "metadata": {
        "id": "view-in-github",
        "colab_type": "text"
      },
      "source": [
        "<a href=\"https://colab.research.google.com/github/M-Jeanne/Advancedweb_2401000493/blob/main/jeanne_mutangampundu.ipynb\" target=\"_parent\"><img src=\"https://colab.research.google.com/assets/colab-badge.svg\" alt=\"Open In Colab\"/></a>"
      ]
    },
    {
      "cell_type": "code",
      "execution_count": 4,
      "metadata": {
        "colab": {
          "base_uri": "https://localhost:8080/"
        },
        "id": "18XQg6wLphZP",
        "outputId": "6a5de101-a616-4c8a-846f-4cdadd19271c"
      },
      "outputs": [
        {
          "output_type": "stream",
          "name": "stdout",
          "text": [
            "['Peter', 'Kagetera', 'John', 'Claude', 'Alex', 'Jeanne_university_Mutangampundu']\n"
          ]
        }
      ],
      "source": [
        "mylist = [\"Kagetera\",\"John\",\"Peter\",\"Alex\",\"Claude\"]\n",
        "mylist.sort(reverse = True)\n",
        "mylist.append(\"Jeanne_university_Mutangampundu\")\n",
        "\n",
        "print(mylist)"
      ]
    },
    {
      "cell_type": "code",
      "source": [
        "prices = {\"Apple\": 1000, \"Banana\": 500, \"Mango\": 1200}\n",
        "\n",
        "# Print each fruit and its price\n",
        "for fruit, price in prices.items():\n",
        "    print(f\"{fruit}: {price} RWF per kg\")\n",
        "\n",
        "# Calculate total cost for 2kg of each fruit\n",
        "total_cost = 0\n",
        "for price in prices.values():\n",
        "    total_cost += price * 2\n",
        "\n",
        "# Print the total cost\n",
        "print(f\"Total cost for 2kg of each fruit: {total_cost} RWF\")"
      ],
      "metadata": {
        "colab": {
          "base_uri": "https://localhost:8080/"
        },
        "id": "1Q6k-ssSJkvx",
        "outputId": "bc7820c7-bbf2-41df-f9e6-f65ab41308ff"
      },
      "execution_count": 5,
      "outputs": [
        {
          "output_type": "stream",
          "name": "stdout",
          "text": [
            "Apple: 1000 RWF per kg\n",
            "Banana: 500 RWF per kg\n",
            "Mango: 1200 RWF per kg\n",
            "Total cost for 2kg of each fruit: 5400 RWF\n"
          ]
        }
      ]
    }
  ]
}